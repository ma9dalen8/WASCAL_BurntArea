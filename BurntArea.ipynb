{
 "cells": [
  {
   "cell_type": "markdown",
   "id": "f53348d7-5825-4675-b9bb-ec2921e95239",
   "metadata": {},
   "source": [
    "**Project MET5** \n",
    "Lallu \n",
    "Jyoti\n",
    "Ina\n",
    "Magda\n",
    "\n",
    "Burnt Areas in Burkina Faso"
   ]
  },
  {
   "cell_type": "markdown",
   "id": "e030583e-694d-4bca-9bd2-bc438afa976f",
   "metadata": {},
   "source": [
    "Import of libraries:"
   ]
  },
  {
   "cell_type": "code",
   "execution_count": 1,
   "id": "fbc4c14a-0029-48c7-8bb7-a76c3cf644eb",
   "metadata": {},
   "outputs": [],
   "source": [
    "import datacube\n",
    "from datetime import datetime\n",
    "from datetime import timedelta\n",
    "import pandas as pd\n",
    "import xarray as xr\n",
    "import numpy as np\n",
    "import matplotlib.pyplot as plt\n",
    "from zipfile import ZipFile\n",
    "import geopandas as gpd\n",
    "from pyproj import Proj, transform\n",
    "from datacube.utils.cog import write_cog\n",
    "from odc.ui import with_ui_cbk\n",
    "\n",
    "from deafrica_tools.datahandling import load_ard, mostcommon_crs\n",
    "from deafrica_tools.plotting import rgb, display_map\n",
    "from deafrica_tools.bandindices import calculate_indices"
   ]
  },
  {
   "cell_type": "markdown",
   "id": "61bbdfac-13a2-45a3-8ddc-f1d60d369a59",
   "metadata": {},
   "source": [
    "Create connection to WASCAL data cube with a unique app name."
   ]
  },
  {
   "cell_type": "code",
   "execution_count": 2,
   "id": "6f991955-292c-4ebe-8301-7833d9cffabf",
   "metadata": {},
   "outputs": [],
   "source": [
    "dc = datacube.Datacube(app=\"Burnt_area_mapping\")"
   ]
  },
  {
   "cell_type": "markdown",
   "id": "6d2cf9e4-d207-4991-8c5d-331463b249e7",
   "metadata": {},
   "source": [
    "View List of Products in the Datacube"
   ]
  },
  {
   "cell_type": "code",
   "execution_count": 3,
   "id": "3207592f-7402-46e9-8cc1-351f33d3ddfb",
   "metadata": {},
   "outputs": [
    {
     "data": {
      "text/html": [
       "<div>\n",
       "<style scoped>\n",
       "    .dataframe tbody tr th:only-of-type {\n",
       "        vertical-align: middle;\n",
       "    }\n",
       "\n",
       "    .dataframe tbody tr th {\n",
       "        vertical-align: top;\n",
       "    }\n",
       "\n",
       "    .dataframe thead th {\n",
       "        text-align: right;\n",
       "    }\n",
       "</style>\n",
       "<table border=\"1\" class=\"dataframe\">\n",
       "  <thead>\n",
       "    <tr style=\"text-align: right;\">\n",
       "      <th></th>\n",
       "      <th>name</th>\n",
       "      <th>description</th>\n",
       "      <th>license</th>\n",
       "      <th>default_crs</th>\n",
       "      <th>default_resolution</th>\n",
       "    </tr>\n",
       "    <tr>\n",
       "      <th>name</th>\n",
       "      <th></th>\n",
       "      <th></th>\n",
       "      <th></th>\n",
       "      <th></th>\n",
       "      <th></th>\n",
       "    </tr>\n",
       "  </thead>\n",
       "  <tbody>\n",
       "    <tr>\n",
       "      <th>ls7_sr</th>\n",
       "      <td>ls7_sr</td>\n",
       "      <td>USGS Landsat 7 Collection 2 Level-2 Surface Re...</td>\n",
       "      <td>CC-BY-4.0</td>\n",
       "      <td>None</td>\n",
       "      <td>None</td>\n",
       "    </tr>\n",
       "    <tr>\n",
       "      <th>ls7_st</th>\n",
       "      <td>ls7_st</td>\n",
       "      <td>USGS Landsat 7 Collection 2 Level-2 Surface Te...</td>\n",
       "      <td>CC-BY-4.0</td>\n",
       "      <td>None</td>\n",
       "      <td>None</td>\n",
       "    </tr>\n",
       "    <tr>\n",
       "      <th>ls8_sr</th>\n",
       "      <td>ls8_sr</td>\n",
       "      <td>USGS Landsat 8 Collection 2 Level-2 Surface Re...</td>\n",
       "      <td>CC-BY-4.0</td>\n",
       "      <td>None</td>\n",
       "      <td>None</td>\n",
       "    </tr>\n",
       "    <tr>\n",
       "      <th>ls8_st</th>\n",
       "      <td>ls8_st</td>\n",
       "      <td>USGS Landsat 8 Collection 2 Level-2 Surface Te...</td>\n",
       "      <td>CC-BY-4.0</td>\n",
       "      <td>None</td>\n",
       "      <td>None</td>\n",
       "    </tr>\n",
       "    <tr>\n",
       "      <th>s2_l2a</th>\n",
       "      <td>s2_l2a</td>\n",
       "      <td>Sentinel-2a and Sentinel-2b imagery, processed...</td>\n",
       "      <td>None</td>\n",
       "      <td>None</td>\n",
       "      <td>None</td>\n",
       "    </tr>\n",
       "    <tr>\n",
       "      <th>wofs_ls</th>\n",
       "      <td>wofs_ls</td>\n",
       "      <td>Historic Flood Mapping Water Observations from...</td>\n",
       "      <td>CC-BY-4.0</td>\n",
       "      <td>None</td>\n",
       "      <td>None</td>\n",
       "    </tr>\n",
       "  </tbody>\n",
       "</table>\n",
       "</div>"
      ],
      "text/plain": [
       "            name                                        description  \\\n",
       "name                                                                  \n",
       "ls7_sr    ls7_sr  USGS Landsat 7 Collection 2 Level-2 Surface Re...   \n",
       "ls7_st    ls7_st  USGS Landsat 7 Collection 2 Level-2 Surface Te...   \n",
       "ls8_sr    ls8_sr  USGS Landsat 8 Collection 2 Level-2 Surface Re...   \n",
       "ls8_st    ls8_st  USGS Landsat 8 Collection 2 Level-2 Surface Te...   \n",
       "s2_l2a    s2_l2a  Sentinel-2a and Sentinel-2b imagery, processed...   \n",
       "wofs_ls  wofs_ls  Historic Flood Mapping Water Observations from...   \n",
       "\n",
       "           license default_crs default_resolution  \n",
       "name                                               \n",
       "ls7_sr   CC-BY-4.0        None               None  \n",
       "ls7_st   CC-BY-4.0        None               None  \n",
       "ls8_sr   CC-BY-4.0        None               None  \n",
       "ls8_st   CC-BY-4.0        None               None  \n",
       "s2_l2a        None        None               None  \n",
       "wofs_ls  CC-BY-4.0        None               None  "
      ]
     },
     "execution_count": 3,
     "metadata": {},
     "output_type": "execute_result"
    }
   ],
   "source": [
    "dc.list_products()"
   ]
  },
  {
   "cell_type": "markdown",
   "id": "9b9ff2ad-7260-430e-86ec-a9445af0518a",
   "metadata": {},
   "source": [
    "Look up specifications of product"
   ]
  },
  {
   "cell_type": "code",
   "execution_count": 6,
   "id": "a7532d68-75ce-4d6a-aee5-1be90ac1dd4e",
   "metadata": {},
   "outputs": [
    {
     "data": {
      "text/html": [
       "<div>\n",
       "<style scoped>\n",
       "    .dataframe tbody tr th:only-of-type {\n",
       "        vertical-align: middle;\n",
       "    }\n",
       "\n",
       "    .dataframe tbody tr th {\n",
       "        vertical-align: top;\n",
       "    }\n",
       "\n",
       "    .dataframe thead th {\n",
       "        text-align: right;\n",
       "    }\n",
       "</style>\n",
       "<table border=\"1\" class=\"dataframe\">\n",
       "  <thead>\n",
       "    <tr style=\"text-align: right;\">\n",
       "      <th></th>\n",
       "      <th>name</th>\n",
       "      <th>dtype</th>\n",
       "      <th>units</th>\n",
       "      <th>nodata</th>\n",
       "      <th>aliases</th>\n",
       "      <th>flags_definition</th>\n",
       "    </tr>\n",
       "    <tr>\n",
       "      <th>measurement</th>\n",
       "      <th></th>\n",
       "      <th></th>\n",
       "      <th></th>\n",
       "      <th></th>\n",
       "      <th></th>\n",
       "      <th></th>\n",
       "    </tr>\n",
       "  </thead>\n",
       "  <tbody>\n",
       "    <tr>\n",
       "      <th>ST_B10</th>\n",
       "      <td>ST_B10</td>\n",
       "      <td>uint16</td>\n",
       "      <td>Kelvin</td>\n",
       "      <td>0</td>\n",
       "      <td>[band_10, st, surface_temperature]</td>\n",
       "      <td>NaN</td>\n",
       "    </tr>\n",
       "    <tr>\n",
       "      <th>ST_TRAD</th>\n",
       "      <td>ST_TRAD</td>\n",
       "      <td>int16</td>\n",
       "      <td>W/(m2.sr.μm)</td>\n",
       "      <td>-9999</td>\n",
       "      <td>[trad, thermal_radiance]</td>\n",
       "      <td>NaN</td>\n",
       "    </tr>\n",
       "    <tr>\n",
       "      <th>ST_URAD</th>\n",
       "      <td>ST_URAD</td>\n",
       "      <td>int16</td>\n",
       "      <td>W/(m2.sr.μm)</td>\n",
       "      <td>-9999</td>\n",
       "      <td>[urad, upwell_radiance]</td>\n",
       "      <td>NaN</td>\n",
       "    </tr>\n",
       "    <tr>\n",
       "      <th>ST_DRAD</th>\n",
       "      <td>ST_DRAD</td>\n",
       "      <td>int16</td>\n",
       "      <td>W/(m2.sr.μm)</td>\n",
       "      <td>-9999</td>\n",
       "      <td>[drad, downwell_radiance]</td>\n",
       "      <td>NaN</td>\n",
       "    </tr>\n",
       "    <tr>\n",
       "      <th>ST_ATRAN</th>\n",
       "      <td>ST_ATRAN</td>\n",
       "      <td>int16</td>\n",
       "      <td>1</td>\n",
       "      <td>-9999</td>\n",
       "      <td>[atran, atmospheric_transmittance]</td>\n",
       "      <td>NaN</td>\n",
       "    </tr>\n",
       "    <tr>\n",
       "      <th>ST_EMIS</th>\n",
       "      <td>ST_EMIS</td>\n",
       "      <td>int16</td>\n",
       "      <td>1</td>\n",
       "      <td>-9999</td>\n",
       "      <td>[emis, emissivity]</td>\n",
       "      <td>NaN</td>\n",
       "    </tr>\n",
       "    <tr>\n",
       "      <th>ST_EMSD</th>\n",
       "      <td>ST_EMSD</td>\n",
       "      <td>int16</td>\n",
       "      <td>1</td>\n",
       "      <td>-9999</td>\n",
       "      <td>[emsd, emissivity_stddev]</td>\n",
       "      <td>NaN</td>\n",
       "    </tr>\n",
       "    <tr>\n",
       "      <th>ST_CDIST</th>\n",
       "      <td>ST_CDIST</td>\n",
       "      <td>int16</td>\n",
       "      <td>Kilometers</td>\n",
       "      <td>-9999</td>\n",
       "      <td>[cdist, cloud_distance]</td>\n",
       "      <td>NaN</td>\n",
       "    </tr>\n",
       "    <tr>\n",
       "      <th>QA_PIXEL</th>\n",
       "      <td>QA_PIXEL</td>\n",
       "      <td>uint16</td>\n",
       "      <td>bit_index</td>\n",
       "      <td>1</td>\n",
       "      <td>[pq, pixel_quality]</td>\n",
       "      <td>{'snow': {'bits': 5, 'values': {'0': 'not_high...</td>\n",
       "    </tr>\n",
       "    <tr>\n",
       "      <th>QA_RADSAT</th>\n",
       "      <td>QA_RADSAT</td>\n",
       "      <td>uint16</td>\n",
       "      <td>bit_index</td>\n",
       "      <td>0</td>\n",
       "      <td>[radsat, radiometric_saturation]</td>\n",
       "      <td>{'nir_saturation': {'bits': 4, 'values': {'0':...</td>\n",
       "    </tr>\n",
       "    <tr>\n",
       "      <th>ST_QA</th>\n",
       "      <td>ST_QA</td>\n",
       "      <td>int16</td>\n",
       "      <td>Kelvin</td>\n",
       "      <td>-9999</td>\n",
       "      <td>[st_qa, surface_temperature_quality]</td>\n",
       "      <td>NaN</td>\n",
       "    </tr>\n",
       "  </tbody>\n",
       "</table>\n",
       "</div>"
      ],
      "text/plain": [
       "                  name   dtype         units  nodata  \\\n",
       "measurement                                            \n",
       "ST_B10          ST_B10  uint16        Kelvin       0   \n",
       "ST_TRAD        ST_TRAD   int16  W/(m2.sr.μm)   -9999   \n",
       "ST_URAD        ST_URAD   int16  W/(m2.sr.μm)   -9999   \n",
       "ST_DRAD        ST_DRAD   int16  W/(m2.sr.μm)   -9999   \n",
       "ST_ATRAN      ST_ATRAN   int16             1   -9999   \n",
       "ST_EMIS        ST_EMIS   int16             1   -9999   \n",
       "ST_EMSD        ST_EMSD   int16             1   -9999   \n",
       "ST_CDIST      ST_CDIST   int16    Kilometers   -9999   \n",
       "QA_PIXEL      QA_PIXEL  uint16     bit_index       1   \n",
       "QA_RADSAT    QA_RADSAT  uint16     bit_index       0   \n",
       "ST_QA            ST_QA   int16        Kelvin   -9999   \n",
       "\n",
       "                                          aliases  \\\n",
       "measurement                                         \n",
       "ST_B10         [band_10, st, surface_temperature]   \n",
       "ST_TRAD                  [trad, thermal_radiance]   \n",
       "ST_URAD                   [urad, upwell_radiance]   \n",
       "ST_DRAD                 [drad, downwell_radiance]   \n",
       "ST_ATRAN       [atran, atmospheric_transmittance]   \n",
       "ST_EMIS                        [emis, emissivity]   \n",
       "ST_EMSD                 [emsd, emissivity_stddev]   \n",
       "ST_CDIST                  [cdist, cloud_distance]   \n",
       "QA_PIXEL                      [pq, pixel_quality]   \n",
       "QA_RADSAT        [radsat, radiometric_saturation]   \n",
       "ST_QA        [st_qa, surface_temperature_quality]   \n",
       "\n",
       "                                              flags_definition  \n",
       "measurement                                                     \n",
       "ST_B10                                                     NaN  \n",
       "ST_TRAD                                                    NaN  \n",
       "ST_URAD                                                    NaN  \n",
       "ST_DRAD                                                    NaN  \n",
       "ST_ATRAN                                                   NaN  \n",
       "ST_EMIS                                                    NaN  \n",
       "ST_EMSD                                                    NaN  \n",
       "ST_CDIST                                                   NaN  \n",
       "QA_PIXEL     {'snow': {'bits': 5, 'values': {'0': 'not_high...  \n",
       "QA_RADSAT    {'nir_saturation': {'bits': 4, 'values': {'0':...  \n",
       "ST_QA                                                      NaN  "
      ]
     },
     "execution_count": 6,
     "metadata": {},
     "output_type": "execute_result"
    }
   ],
   "source": [
    "product = \"ls8_st\"\n",
    "measurements = dc.list_measurements()\n",
    "measurements.loc[product]"
   ]
  },
  {
   "cell_type": "markdown",
   "id": "389fe6ee-d5dd-498e-a16e-9eb7edee67c4",
   "metadata": {},
   "source": [
    "Data availibility"
   ]
  },
  {
   "cell_type": "markdown",
   "id": "a2c10c3b-d4ad-4ed9-a601-2dad09e232f6",
   "metadata": {},
   "source": [
    "landsat 8_sr data available every 16 days\\\n",
    "for January/February 2020: 01-07, 01-23, 02-08, 02-24"
   ]
  },
  {
   "cell_type": "code",
   "execution_count": null,
   "id": "8088651d-09e9-4659-a5d2-2cce9fa6eeac",
   "metadata": {},
   "outputs": [],
   "source": [
    "from odc.ui import DcViewer\n",
    "\n",
    "dcv = DcViewer(dc,time='2020-01-07', center=(12,1), zoom=6)\n",
    "dcv"
   ]
  },
  {
   "cell_type": "code",
   "execution_count": null,
   "id": "56092f1e-b838-41ec-a078-df47cbe36a1a",
   "metadata": {},
   "outputs": [],
   "source": []
  },
  {
   "cell_type": "markdown",
   "id": "51e3cee7-3161-4fd5-99ee-f851b15d8988",
   "metadata": {},
   "source": [
    "Display Research Area \n",
    "\n",
    "\n"
   ]
  },
  {
   "cell_type": "code",
   "execution_count": null,
   "id": "735f61d9-1deb-45ec-872a-65cbd4fe7bec",
   "metadata": {},
   "outputs": [],
   "source": [
    "from dea_tools.plotting import display_map\n",
    "display_map([-4.00 ,-3.79],[11.75 ,11.36], crs = 'EPSG:4620')"
   ]
  },
  {
   "cell_type": "code",
   "execution_count": 8,
   "id": "40dcb793-940d-443b-b679-72219b76e4d4",
   "metadata": {},
   "outputs": [],
   "source": [
    "# Define the area of interest\n",
    "lat = 11.564\n",
    "lon = -3.861\n",
    "buffer = 0.2\n",
    "\n",
    "# Compute the bounding box for the study area\n",
    "lat_range = (lat-buffer, lat+buffer)\n",
    "lon_range = (lon-buffer, lon+buffer)"
   ]
  },
  {
   "cell_type": "markdown",
   "id": "b72e0648-40c7-474e-8415-ddcf7a39cb75",
   "metadata": {},
   "source": [
    "Define Fire Period"
   ]
  },
  {
   "cell_type": "code",
   "execution_count": 9,
   "id": "d5f6bd4d-3970-4b01-a39e-368c5fd72673",
   "metadata": {},
   "outputs": [],
   "source": [
    "# Fire event date\n",
    "fire_date = '2019-12-01'\n",
    "\n",
    "# Length of baseline period\n",
    "baseline_length = '3 months'"
   ]
  },
  {
   "cell_type": "code",
   "execution_count": null,
   "id": "9e010ac4-0a0c-4a81-a04a-fab8e2c9fbca",
   "metadata": {},
   "outputs": [],
   "source": [
    "display_map(x=lon_range, y=lat_range)"
   ]
  },
  {
   "cell_type": "code",
   "execution_count": 10,
   "id": "ecc51c35-c9d4-4053-95a1-9172387ad237",
   "metadata": {},
   "outputs": [],
   "source": [
    "# Define load parameters\n",
    "resolution = (-30, 30)\n",
    "measurements = ['blue', 'green', 'red',\n",
    "                'nir', 'swir_1', 'swir_2', 'pixel_quality', 'radiometric_saturation']\n",
    "#min_gooddata = 0.6"
   ]
  },
  {
   "cell_type": "code",
   "execution_count": 11,
   "id": "6c5d4362-7c39-4f24-9825-cab534ce326d",
   "metadata": {},
   "outputs": [
    {
     "name": "stdout",
     "output_type": "stream",
     "text": [
      "Using pixel quality parameters for USGS Collection 2\n",
      "Finding datasets\n",
      "    ls8_sr\n"
     ]
    },
    {
     "ename": "TypeError",
     "evalue": "datacube.api.core.Datacube.find_datasets() got multiple values for keyword argument 'collection_category'",
     "output_type": "error",
     "traceback": [
      "\u001b[0;31m---------------------------------------------------------------------------\u001b[0m",
      "\u001b[0;31mTypeError\u001b[0m                                 Traceback (most recent call last)",
      "Input \u001b[0;32mIn [11]\u001b[0m, in \u001b[0;36m<module>\u001b[0;34m\u001b[0m\n\u001b[1;32m     14\u001b[0m output_crs \u001b[38;5;241m=\u001b[39m \u001b[38;5;124m\"\u001b[39m\u001b[38;5;124mEPSG:6933\u001b[39m\u001b[38;5;124m\"\u001b[39m\n\u001b[1;32m     16\u001b[0m \u001b[38;5;66;03m# Load all data in basline period avalible from ARD data\u001b[39;00m\n\u001b[0;32m---> 17\u001b[0m baseline_ard \u001b[38;5;241m=\u001b[39m \u001b[43mload_ard\u001b[49m\u001b[43m(\u001b[49m\u001b[43mdc\u001b[49m\u001b[38;5;241;43m=\u001b[39;49m\u001b[43mdc\u001b[49m\u001b[43m,\u001b[49m\n\u001b[1;32m     18\u001b[0m \u001b[43m                        \u001b[49m\u001b[43mproducts\u001b[49m\u001b[38;5;241;43m=\u001b[39;49m\u001b[43mproducts\u001b[49m\u001b[43m,\u001b[49m\n\u001b[1;32m     19\u001b[0m \u001b[43m                        \u001b[49m\u001b[43mtime\u001b[49m\u001b[38;5;241;43m=\u001b[39;49m\u001b[43m(\u001b[49m\u001b[38;5;124;43m'\u001b[39;49m\u001b[38;5;124;43m2019-12-31\u001b[39;49m\u001b[38;5;124;43m'\u001b[39;49m\u001b[43m,\u001b[49m\u001b[43m \u001b[49m\u001b[38;5;124;43m'\u001b[39;49m\u001b[38;5;124;43m2020-02-29\u001b[39;49m\u001b[38;5;124;43m'\u001b[39;49m\u001b[43m)\u001b[49m\u001b[43m,\u001b[49m\n\u001b[1;32m     20\u001b[0m \u001b[43m                        \u001b[49m\u001b[38;5;66;43;03m#min_gooddata=min_gooddata,\u001b[39;49;00m\n\u001b[1;32m     21\u001b[0m \u001b[43m                        \u001b[49m\u001b[43moutput_crs\u001b[49m\u001b[38;5;241;43m=\u001b[39;49m\u001b[43moutput_crs\u001b[49m\u001b[43m,\u001b[49m\n\u001b[1;32m     22\u001b[0m \u001b[43m                        \u001b[49m\u001b[43mgroup_by\u001b[49m\u001b[38;5;241;43m=\u001b[39;49m\u001b[38;5;124;43m'\u001b[39;49m\u001b[38;5;124;43msolar_day\u001b[39;49m\u001b[38;5;124;43m'\u001b[39;49m\u001b[43m,\u001b[49m\n\u001b[1;32m     23\u001b[0m \u001b[43m                        \u001b[49m\u001b[43mcollection_category\u001b[49m\u001b[38;5;241;43m=\u001b[39;49m\u001b[38;5;124;43m'\u001b[39;49m\u001b[38;5;124;43mT1\u001b[39;49m\u001b[38;5;124;43m'\u001b[39;49m\u001b[43m,\u001b[49m\n\u001b[1;32m     24\u001b[0m \u001b[43m                        \u001b[49m\u001b[38;5;241;43m*\u001b[39;49m\u001b[38;5;241;43m*\u001b[39;49m\u001b[43mquery\u001b[49m\u001b[43m)\u001b[49m\n",
      "File \u001b[0;32m/opt/conda/lib/python3.9/site-packages/deafrica_tools/datahandling.py:394\u001b[0m, in \u001b[0;36mload_ard\u001b[0;34m(dc, products, min_gooddata, categories_to_mask_ls, categories_to_mask_s2, categories_to_mask_s1, mask_filters, mask_pixel_quality, ls7_slc_off, predicate, dtype, verbose, **kwargs)\u001b[0m\n\u001b[1;32m    389\u001b[0m     \u001b[38;5;28mprint\u001b[39m(\u001b[38;5;124mf\u001b[39m\u001b[38;5;124m\"\u001b[39m\u001b[38;5;124m    \u001b[39m\u001b[38;5;132;01m{\u001b[39;00mproduct\u001b[38;5;132;01m}\u001b[39;00m\u001b[38;5;124m\"\u001b[39m)\n\u001b[1;32m    391\u001b[0m \u001b[38;5;28;01mif\u001b[39;00m product_type \u001b[38;5;241m==\u001b[39m \u001b[38;5;124m\"\u001b[39m\u001b[38;5;124mls\u001b[39m\u001b[38;5;124m\"\u001b[39m:\n\u001b[1;32m    392\u001b[0m     \u001b[38;5;66;03m# handle LS seperately to S2/S1 due to collection_category\u001b[39;00m\n\u001b[1;32m    393\u001b[0m     \u001b[38;5;66;03m#force the user to load Tier 1\u001b[39;00m\n\u001b[0;32m--> 394\u001b[0m     datasets \u001b[38;5;241m=\u001b[39m dc\u001b[38;5;241m.\u001b[39mfind_datasets(\n\u001b[1;32m    395\u001b[0m         product\u001b[38;5;241m=\u001b[39mproduct, collection_category\u001b[38;5;241m=\u001b[39m\u001b[38;5;124m'\u001b[39m\u001b[38;5;124mT1\u001b[39m\u001b[38;5;124m'\u001b[39m, \u001b[38;5;241m*\u001b[39m\u001b[38;5;241m*\u001b[39mquery\n\u001b[1;32m    396\u001b[0m     )\n\u001b[1;32m    397\u001b[0m \u001b[38;5;28;01melse\u001b[39;00m:\n\u001b[1;32m    398\u001b[0m     datasets \u001b[38;5;241m=\u001b[39m dc\u001b[38;5;241m.\u001b[39mfind_datasets(product\u001b[38;5;241m=\u001b[39mproduct, \u001b[38;5;241m*\u001b[39m\u001b[38;5;241m*\u001b[39mquery)\n",
      "\u001b[0;31mTypeError\u001b[0m: datacube.api.core.Datacube.find_datasets() got multiple values for keyword argument 'collection_category'"
     ]
    }
   ],
   "source": [
    "# Choose the Sentinel-2 products to load\n",
    "products = [\"ls8_sr\"]\n",
    "\n",
    "# Create a reusable query\n",
    "query = {\n",
    "    \"x\": lon_range,\n",
    "    \"y\": lat_range,\n",
    "    \"resolution\": resolution,\n",
    "    \"measurements\": measurements\n",
    "}\n",
    "\n",
    "# Since this analysis calculates pixel areas,\n",
    "# set the output projection to equal area projection EPSG:6933\n",
    "output_crs = \"EPSG:6933\"\n",
    "\n",
    "# Load all data in basline period avalible from ARD data\n",
    "baseline_ard = load_ard(dc=dc,\n",
    "                        products=products,\n",
    "                        time=('2019-12-31', '2020-02-29'),\n",
    "                        #min_gooddata=min_gooddata,\n",
    "                        output_crs=output_crs,\n",
    "                        group_by='solar_day',\n",
    "                        collection_category='T1',\n",
    "                        **query)"
   ]
  }
 ],
 "metadata": {
  "kernelspec": {
   "display_name": "Python 3 (ipykernel)",
   "language": "python",
   "name": "python3"
  },
  "language_info": {
   "codemirror_mode": {
    "name": "ipython",
    "version": 3
   },
   "file_extension": ".py",
   "mimetype": "text/x-python",
   "name": "python",
   "nbconvert_exporter": "python",
   "pygments_lexer": "ipython3",
   "version": "3.9.7"
  }
 },
 "nbformat": 4,
 "nbformat_minor": 5
}
